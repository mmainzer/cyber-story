{
 "cells": [
  {
   "cell_type": "code",
   "execution_count": 1,
   "metadata": {},
   "outputs": [],
   "source": [
    "import pandas as pd\n",
    "from sqlalchemy import create_engine\n",
    "from geopandas import GeoDataFrame\n",
    "import geopandas as gpd\n",
    "from shapely.geometry import Point\n",
    "import shapely.geometry as geom\n",
    "import fiona\n",
    "import collections\n",
    "import json\n",
    "import numpy as np\n",
    "import glob\n",
    "pd.set_option('display.max_columns', None)"
   ]
  },
  {
   "cell_type": "code",
   "execution_count": null,
   "metadata": {},
   "outputs": [],
   "source": [
    "# grab hard skills, cities, qualifications tables"
   ]
  },
  {
   "cell_type": "code",
   "execution_count": 2,
   "metadata": {},
   "outputs": [
    {
     "data": {
      "text/plain": [
       "'/Users/michaelmainzer/Desktop/projects/publications/cyber/data'"
      ]
     },
     "execution_count": 2,
     "metadata": {},
     "output_type": "execute_result"
    }
   ],
   "source": [
    "pwd"
   ]
  },
  {
   "cell_type": "code",
   "execution_count": 48,
   "metadata": {},
   "outputs": [],
   "source": [
    "files = glob.glob('./profiles/*.xls')\n",
    "dfs = []\n",
    "for file in files:\n",
    "    df = pd.read_excel(file, sheet_name=\"Overview\", header=None, skipfooter=1)\n",
    "    df['MSA'] = file[29:-4]\n",
    "    df.columns = ['Profiles','MSA']\n",
    "    df = df[['MSA','Profiles']]\n",
    "    dfs.append(df)\n",
    "\n",
    "msaProfiles = pd.concat(dfs, ignore_index=True)"
   ]
  },
  {
   "cell_type": "code",
   "execution_count": 49,
   "metadata": {},
   "outputs": [],
   "source": [
    "files = glob.glob('./profiles/*.xls')\n",
    "dfs = []\n",
    "for file in files:\n",
    "    df = pd.read_excel(file, sheet_name=\"Top Hard Skills (2)\",skiprows=2)\n",
    "    df.rename(columns={'Profiles with Skill / Total Profiles (2017 - 2020)':'Profiles',\n",
    "                       'Frequency in Profiles':'Frequency',\n",
    "                       'Skill':'Metric'}, inplace=True)\n",
    "    df[['Profiles','Totals']] = df['Profiles'].str.split('/',expand=True)\n",
    "    df['MSA'] = file[29:-4]\n",
    "    del df['Totals']\n",
    "    del df['Frequency']\n",
    "    dfs.append(df)\n",
    "\n",
    "skills = pd.concat(dfs, ignore_index=True)"
   ]
  },
  {
   "cell_type": "code",
   "execution_count": 50,
   "metadata": {},
   "outputs": [],
   "source": [
    "files = glob.glob('./profiles/*.xls')\n",
    "dfs = []\n",
    "for file in files:\n",
    "    df = pd.read_excel(file, sheet_name=\"Top Qualifications (2)\",skiprows=2)\n",
    "    df.rename(columns={'Profiles with Qualification':'Profiles',\n",
    "                       'Qualification':'Metric'}, inplace=True)\n",
    "    df['MSA'] = file[29:-4]\n",
    "    dfs.append(df)\n",
    "\n",
    "qualifications = pd.concat(dfs, ignore_index=True)"
   ]
  },
  {
   "cell_type": "code",
   "execution_count": 51,
   "metadata": {},
   "outputs": [],
   "source": [
    "files = glob.glob('./profiles/*.xls')\n",
    "dfs = []\n",
    "for file in files:\n",
    "    df = pd.read_excel(file, sheet_name=\"Top Cities\",skiprows=2)\n",
    "    del df['Percent']\n",
    "    df.rename(columns={'City':'Metric'}, inplace=True)\n",
    "    df['MSA'] = file[29:-4]\n",
    "    dfs.append(df)\n",
    "\n",
    "cities = pd.concat(dfs, ignore_index=True)"
   ]
  },
  {
   "cell_type": "code",
   "execution_count": 52,
   "metadata": {},
   "outputs": [],
   "source": [
    "skills['Category'] = \"Skills\"\n",
    "qualifications['Category'] = \"Qualifications\"\n",
    "cities['Category'] = \"Cities\"\n"
   ]
  },
  {
   "cell_type": "code",
   "execution_count": 53,
   "metadata": {},
   "outputs": [],
   "source": [
    "data = pd.concat([cities,skills,qualifications], ignore_index=True)"
   ]
  },
  {
   "cell_type": "code",
   "execution_count": 54,
   "metadata": {},
   "outputs": [],
   "source": [
    "data = data[['MSA','Category','Metric','Profiles']]"
   ]
  },
  {
   "cell_type": "code",
   "execution_count": 56,
   "metadata": {},
   "outputs": [],
   "source": [
    "data.to_csv('deleteMeNow.csv', index=False)"
   ]
  },
  {
   "cell_type": "code",
   "execution_count": 55,
   "metadata": {},
   "outputs": [
    {
     "data": {
      "text/html": [
       "<div>\n",
       "<style scoped>\n",
       "    .dataframe tbody tr th:only-of-type {\n",
       "        vertical-align: middle;\n",
       "    }\n",
       "\n",
       "    .dataframe tbody tr th {\n",
       "        vertical-align: top;\n",
       "    }\n",
       "\n",
       "    .dataframe thead th {\n",
       "        text-align: right;\n",
       "    }\n",
       "</style>\n",
       "<table border=\"1\" class=\"dataframe\">\n",
       "  <thead>\n",
       "    <tr style=\"text-align: right;\">\n",
       "      <th></th>\n",
       "      <th>MSA</th>\n",
       "      <th>Category</th>\n",
       "      <th>Metric</th>\n",
       "      <th>Profiles</th>\n",
       "    </tr>\n",
       "  </thead>\n",
       "  <tbody>\n",
       "    <tr>\n",
       "      <th>0</th>\n",
       "      <td>Charlotte_Concord_Gastonia_NC_SC_3282</td>\n",
       "      <td>Cities</td>\n",
       "      <td>Charlotte, NC</td>\n",
       "      <td>1719</td>\n",
       "    </tr>\n",
       "    <tr>\n",
       "      <th>1</th>\n",
       "      <td>Charlotte_Concord_Gastonia_NC_SC_3282</td>\n",
       "      <td>Cities</td>\n",
       "      <td>Concord, NC</td>\n",
       "      <td>55</td>\n",
       "    </tr>\n",
       "    <tr>\n",
       "      <th>2</th>\n",
       "      <td>Charlotte_Concord_Gastonia_NC_SC_3282</td>\n",
       "      <td>Cities</td>\n",
       "      <td>Fort Mill, SC</td>\n",
       "      <td>49</td>\n",
       "    </tr>\n",
       "    <tr>\n",
       "      <th>3</th>\n",
       "      <td>Charlotte_Concord_Gastonia_NC_SC_3282</td>\n",
       "      <td>Cities</td>\n",
       "      <td>Huntersville, NC</td>\n",
       "      <td>40</td>\n",
       "    </tr>\n",
       "    <tr>\n",
       "      <th>4</th>\n",
       "      <td>Charlotte_Concord_Gastonia_NC_SC_3282</td>\n",
       "      <td>Cities</td>\n",
       "      <td>Mooresville, NC</td>\n",
       "      <td>33</td>\n",
       "    </tr>\n",
       "  </tbody>\n",
       "</table>\n",
       "</div>"
      ],
      "text/plain": [
       "                                     MSA Category            Metric Profiles\n",
       "0  Charlotte_Concord_Gastonia_NC_SC_3282   Cities     Charlotte, NC     1719\n",
       "1  Charlotte_Concord_Gastonia_NC_SC_3282   Cities       Concord, NC       55\n",
       "2  Charlotte_Concord_Gastonia_NC_SC_3282   Cities     Fort Mill, SC       49\n",
       "3  Charlotte_Concord_Gastonia_NC_SC_3282   Cities  Huntersville, NC       40\n",
       "4  Charlotte_Concord_Gastonia_NC_SC_3282   Cities   Mooresville, NC       33"
      ]
     },
     "execution_count": 55,
     "metadata": {},
     "output_type": "execute_result"
    }
   ],
   "source": [
    "data.head()"
   ]
  },
  {
   "cell_type": "code",
   "execution_count": 14,
   "metadata": {},
   "outputs": [],
   "source": [
    "msaProfiles = pd.read_excel('deleteMsaProfiles.xlsx', usecols=\"B,C\")"
   ]
  },
  {
   "cell_type": "code",
   "execution_count": 15,
   "metadata": {},
   "outputs": [],
   "source": [
    "msaShape = gpd.read_file('../../../data/spatial/msa/us_msa.geojson')"
   ]
  },
  {
   "cell_type": "code",
   "execution_count": 16,
   "metadata": {},
   "outputs": [],
   "source": [
    "msaProfiles = pd.merge(msaProfiles,msaShape,how='left',left_on='MSA',right_on='NAME')"
   ]
  },
  {
   "cell_type": "code",
   "execution_count": 17,
   "metadata": {},
   "outputs": [],
   "source": [
    "msaProfiles = msaProfiles[['MSA','GEOID','Profiles','geometry']]"
   ]
  },
  {
   "cell_type": "code",
   "execution_count": 18,
   "metadata": {},
   "outputs": [],
   "source": [
    "msaProfiles.sort_values('MSA', inplace=True)"
   ]
  },
  {
   "cell_type": "code",
   "execution_count": 20,
   "metadata": {},
   "outputs": [
    {
     "name": "stderr",
     "output_type": "stream",
     "text": [
      "/Users/mmainza/opt/anaconda3/lib/python3.7/site-packages/pyproj/crs/crs.py:53: FutureWarning: '+init=<authority>:<code>' syntax is deprecated. '<authority>:<code>' is the preferred initialization method. When making the change, be mindful of axis order changes: https://pyproj4.github.io/pyproj/stable/gotchas.html#axis-order-changes-in-proj-6\n",
      "  return _prepare_from_string(\" \".join(pjargs))\n"
     ]
    }
   ],
   "source": [
    "crs = {'init': 'epsg:4326'}\n",
    "msaProfiles = GeoDataFrame(msaProfiles, crs=crs, geometry=msaProfiles.geometry)"
   ]
  },
  {
   "cell_type": "code",
   "execution_count": 21,
   "metadata": {},
   "outputs": [],
   "source": [
    "msaProfiles['geometry'] = msaProfiles['geometry'].centroid"
   ]
  },
  {
   "cell_type": "code",
   "execution_count": 26,
   "metadata": {},
   "outputs": [],
   "source": [
    "msaProfiles.to_file('msaprofiles.geojson', driver=\"GeoJSON\")"
   ]
  },
  {
   "cell_type": "code",
   "execution_count": 26,
   "metadata": {},
   "outputs": [
    {
     "ename": "NameError",
     "evalue": "name 'msaProfiles' is not defined",
     "output_type": "error",
     "traceback": [
      "\u001b[0;31m---------------------------------------------------------------------------\u001b[0m",
      "\u001b[0;31mNameError\u001b[0m                                 Traceback (most recent call last)",
      "\u001b[0;32m<ipython-input-26-031fe9d0fb07>\u001b[0m in \u001b[0;36m<module>\u001b[0;34m\u001b[0m\n\u001b[0;32m----> 1\u001b[0;31m \u001b[0mmsaProfiles\u001b[0m\u001b[0;34m.\u001b[0m\u001b[0mhead\u001b[0m\u001b[0;34m(\u001b[0m\u001b[0;34m)\u001b[0m\u001b[0;34m\u001b[0m\u001b[0;34m\u001b[0m\u001b[0m\n\u001b[0m",
      "\u001b[0;31mNameError\u001b[0m: name 'msaProfiles' is not defined"
     ]
    }
   ],
   "source": [
    "msaProfiles.head()"
   ]
  },
  {
   "cell_type": "code",
   "execution_count": 28,
   "metadata": {},
   "outputs": [],
   "source": [
    "data.to_excel('deleteMsaData.xlsx', index=False)"
   ]
  },
  {
   "cell_type": "code",
   "execution_count": null,
   "metadata": {},
   "outputs": [],
   "source": []
  },
  {
   "cell_type": "code",
   "execution_count": 21,
   "metadata": {},
   "outputs": [],
   "source": [
    "df = pd.read_excel('cyber-story-data.xlsx', sheet_name=\"msaProfilesData\")"
   ]
  },
  {
   "cell_type": "code",
   "execution_count": 22,
   "metadata": {},
   "outputs": [],
   "source": [
    "df = df.loc[df['Flagged'] == \"Flagged\"]"
   ]
  },
  {
   "cell_type": "code",
   "execution_count": 16,
   "metadata": {},
   "outputs": [],
   "source": [
    "df['Rows'] = df['Rows'].round(0)"
   ]
  },
  {
   "cell_type": "code",
   "execution_count": 17,
   "metadata": {},
   "outputs": [],
   "source": [
    "df['Rows'] = df['Rows'].astype(int)\n",
    "df['Profiles'] = df['Profiles'].astype(int)"
   ]
  },
  {
   "cell_type": "code",
   "execution_count": 18,
   "metadata": {},
   "outputs": [],
   "source": [
    "df = df[['MSA','Metric','Profiles','Rows']]"
   ]
  },
  {
   "cell_type": "code",
   "execution_count": 19,
   "metadata": {},
   "outputs": [],
   "source": [
    "df.reset_index(drop=True,inplace=True)"
   ]
  },
  {
   "cell_type": "code",
   "execution_count": 22,
   "metadata": {},
   "outputs": [],
   "source": [
    "data = df.loc[df.index.repeat(df.Rows)]"
   ]
  },
  {
   "cell_type": "code",
   "execution_count": 24,
   "metadata": {},
   "outputs": [],
   "source": [
    "data.rename(columns={'Profiles':'Total'}, inplace=True)\n",
    "data['Profiles'] = 5"
   ]
  },
  {
   "cell_type": "code",
   "execution_count": 2,
   "metadata": {},
   "outputs": [],
   "source": [
    "totalProfiles = gpd.read_file('msaProfiles.geojson')"
   ]
  },
  {
   "cell_type": "code",
   "execution_count": 29,
   "metadata": {},
   "outputs": [],
   "source": [
    "totalProfiles['Metric'] = \"Total Cyber Profiles\""
   ]
  },
  {
   "cell_type": "code",
   "execution_count": 31,
   "metadata": {},
   "outputs": [],
   "source": [
    "totalProfiles['Rows'] = totalProfiles['Profiles'] / 5\n",
    "totalProfiles.rename(columns={'Profiles':'Total'}, inplace=True)"
   ]
  },
  {
   "cell_type": "code",
   "execution_count": 33,
   "metadata": {},
   "outputs": [],
   "source": [
    "totalProfiles['Rows'] = totalProfiles['Rows'].round(0)\n",
    "totalProfiles['Rows'] = totalProfiles['Rows'].astype(int)"
   ]
  },
  {
   "cell_type": "code",
   "execution_count": 35,
   "metadata": {},
   "outputs": [
    {
     "data": {
      "text/html": [
       "<div>\n",
       "<style scoped>\n",
       "    .dataframe tbody tr th:only-of-type {\n",
       "        vertical-align: middle;\n",
       "    }\n",
       "\n",
       "    .dataframe tbody tr th {\n",
       "        vertical-align: top;\n",
       "    }\n",
       "\n",
       "    .dataframe thead th {\n",
       "        text-align: right;\n",
       "    }\n",
       "</style>\n",
       "<table border=\"1\" class=\"dataframe\">\n",
       "  <thead>\n",
       "    <tr style=\"text-align: right;\">\n",
       "      <th></th>\n",
       "      <th>MSA</th>\n",
       "      <th>Metric</th>\n",
       "      <th>Total</th>\n",
       "      <th>Rows</th>\n",
       "      <th>Profiles</th>\n",
       "    </tr>\n",
       "  </thead>\n",
       "  <tbody>\n",
       "    <tr>\n",
       "      <th>0</th>\n",
       "      <td>Atlanta-Sandy Springs-Alpharetta, GA</td>\n",
       "      <td>Certified Ethical Hacker</td>\n",
       "      <td>346</td>\n",
       "      <td>69</td>\n",
       "      <td>5</td>\n",
       "    </tr>\n",
       "    <tr>\n",
       "      <th>0</th>\n",
       "      <td>Atlanta-Sandy Springs-Alpharetta, GA</td>\n",
       "      <td>Certified Ethical Hacker</td>\n",
       "      <td>346</td>\n",
       "      <td>69</td>\n",
       "      <td>5</td>\n",
       "    </tr>\n",
       "    <tr>\n",
       "      <th>0</th>\n",
       "      <td>Atlanta-Sandy Springs-Alpharetta, GA</td>\n",
       "      <td>Certified Ethical Hacker</td>\n",
       "      <td>346</td>\n",
       "      <td>69</td>\n",
       "      <td>5</td>\n",
       "    </tr>\n",
       "    <tr>\n",
       "      <th>0</th>\n",
       "      <td>Atlanta-Sandy Springs-Alpharetta, GA</td>\n",
       "      <td>Certified Ethical Hacker</td>\n",
       "      <td>346</td>\n",
       "      <td>69</td>\n",
       "      <td>5</td>\n",
       "    </tr>\n",
       "    <tr>\n",
       "      <th>0</th>\n",
       "      <td>Atlanta-Sandy Springs-Alpharetta, GA</td>\n",
       "      <td>Certified Ethical Hacker</td>\n",
       "      <td>346</td>\n",
       "      <td>69</td>\n",
       "      <td>5</td>\n",
       "    </tr>\n",
       "  </tbody>\n",
       "</table>\n",
       "</div>"
      ],
      "text/plain": [
       "                                    MSA                    Metric  Total  \\\n",
       "0  Atlanta-Sandy Springs-Alpharetta, GA  Certified Ethical Hacker    346   \n",
       "0  Atlanta-Sandy Springs-Alpharetta, GA  Certified Ethical Hacker    346   \n",
       "0  Atlanta-Sandy Springs-Alpharetta, GA  Certified Ethical Hacker    346   \n",
       "0  Atlanta-Sandy Springs-Alpharetta, GA  Certified Ethical Hacker    346   \n",
       "0  Atlanta-Sandy Springs-Alpharetta, GA  Certified Ethical Hacker    346   \n",
       "\n",
       "   Rows  Profiles  \n",
       "0    69         5  \n",
       "0    69         5  \n",
       "0    69         5  \n",
       "0    69         5  \n",
       "0    69         5  "
      ]
     },
     "execution_count": 35,
     "metadata": {},
     "output_type": "execute_result"
    }
   ],
   "source": [
    "data.head()"
   ]
  },
  {
   "cell_type": "code",
   "execution_count": 36,
   "metadata": {},
   "outputs": [],
   "source": [
    "totalProfiles = totalProfiles[['MSA','Metric','Total','Rows']]"
   ]
  },
  {
   "cell_type": "code",
   "execution_count": 38,
   "metadata": {},
   "outputs": [],
   "source": [
    "total = totalProfiles.loc[totalProfiles.index.repeat(totalProfiles.Rows)]"
   ]
  },
  {
   "cell_type": "code",
   "execution_count": 40,
   "metadata": {},
   "outputs": [],
   "source": [
    "total['Profiles'] = 5"
   ]
  },
  {
   "cell_type": "code",
   "execution_count": 42,
   "metadata": {},
   "outputs": [
    {
     "data": {
      "text/html": [
       "<div>\n",
       "<style scoped>\n",
       "    .dataframe tbody tr th:only-of-type {\n",
       "        vertical-align: middle;\n",
       "    }\n",
       "\n",
       "    .dataframe tbody tr th {\n",
       "        vertical-align: top;\n",
       "    }\n",
       "\n",
       "    .dataframe thead th {\n",
       "        text-align: right;\n",
       "    }\n",
       "</style>\n",
       "<table border=\"1\" class=\"dataframe\">\n",
       "  <thead>\n",
       "    <tr style=\"text-align: right;\">\n",
       "      <th></th>\n",
       "      <th>MSA</th>\n",
       "      <th>Metric</th>\n",
       "      <th>Total</th>\n",
       "      <th>Rows</th>\n",
       "      <th>Profiles</th>\n",
       "    </tr>\n",
       "  </thead>\n",
       "  <tbody>\n",
       "    <tr>\n",
       "      <th>0</th>\n",
       "      <td>Atlanta-Sandy Springs-Alpharetta, GA</td>\n",
       "      <td>Certified Ethical Hacker</td>\n",
       "      <td>346</td>\n",
       "      <td>69</td>\n",
       "      <td>5</td>\n",
       "    </tr>\n",
       "  </tbody>\n",
       "</table>\n",
       "</div>"
      ],
      "text/plain": [
       "                                    MSA                    Metric  Total  \\\n",
       "0  Atlanta-Sandy Springs-Alpharetta, GA  Certified Ethical Hacker    346   \n",
       "\n",
       "   Rows  Profiles  \n",
       "0    69         5  "
      ]
     },
     "execution_count": 42,
     "metadata": {},
     "output_type": "execute_result"
    }
   ],
   "source": [
    "data.head(1)"
   ]
  },
  {
   "cell_type": "code",
   "execution_count": 41,
   "metadata": {},
   "outputs": [
    {
     "data": {
      "text/html": [
       "<div>\n",
       "<style scoped>\n",
       "    .dataframe tbody tr th:only-of-type {\n",
       "        vertical-align: middle;\n",
       "    }\n",
       "\n",
       "    .dataframe tbody tr th {\n",
       "        vertical-align: top;\n",
       "    }\n",
       "\n",
       "    .dataframe thead th {\n",
       "        text-align: right;\n",
       "    }\n",
       "</style>\n",
       "<table border=\"1\" class=\"dataframe\">\n",
       "  <thead>\n",
       "    <tr style=\"text-align: right;\">\n",
       "      <th></th>\n",
       "      <th>MSA</th>\n",
       "      <th>Metric</th>\n",
       "      <th>Total</th>\n",
       "      <th>Rows</th>\n",
       "      <th>Profiles</th>\n",
       "    </tr>\n",
       "  </thead>\n",
       "  <tbody>\n",
       "    <tr>\n",
       "      <th>0</th>\n",
       "      <td>Atlanta-Sandy Springs-Alpharetta, GA</td>\n",
       "      <td>Total Cyber Profiles</td>\n",
       "      <td>8376</td>\n",
       "      <td>1675</td>\n",
       "      <td>5</td>\n",
       "    </tr>\n",
       "  </tbody>\n",
       "</table>\n",
       "</div>"
      ],
      "text/plain": [
       "                                    MSA                Metric  Total  Rows  \\\n",
       "0  Atlanta-Sandy Springs-Alpharetta, GA  Total Cyber Profiles   8376  1675   \n",
       "\n",
       "   Profiles  \n",
       "0         5  "
      ]
     },
     "execution_count": 41,
     "metadata": {},
     "output_type": "execute_result"
    }
   ],
   "source": [
    "total.head(1)"
   ]
  },
  {
   "cell_type": "code",
   "execution_count": 45,
   "metadata": {},
   "outputs": [],
   "source": [
    "df = pd.concat([data,total])\n",
    "df.reset_index(drop=True,inplace=True)"
   ]
  },
  {
   "cell_type": "code",
   "execution_count": 46,
   "metadata": {},
   "outputs": [
    {
     "data": {
      "text/html": [
       "<div>\n",
       "<style scoped>\n",
       "    .dataframe tbody tr th:only-of-type {\n",
       "        vertical-align: middle;\n",
       "    }\n",
       "\n",
       "    .dataframe tbody tr th {\n",
       "        vertical-align: top;\n",
       "    }\n",
       "\n",
       "    .dataframe thead th {\n",
       "        text-align: right;\n",
       "    }\n",
       "</style>\n",
       "<table border=\"1\" class=\"dataframe\">\n",
       "  <thead>\n",
       "    <tr style=\"text-align: right;\">\n",
       "      <th></th>\n",
       "      <th>MSA</th>\n",
       "      <th>Metric</th>\n",
       "      <th>Total</th>\n",
       "      <th>Rows</th>\n",
       "      <th>Profiles</th>\n",
       "    </tr>\n",
       "  </thead>\n",
       "  <tbody>\n",
       "    <tr>\n",
       "      <th>0</th>\n",
       "      <td>Atlanta-Sandy Springs-Alpharetta, GA</td>\n",
       "      <td>Certified Ethical Hacker</td>\n",
       "      <td>346</td>\n",
       "      <td>69</td>\n",
       "      <td>5</td>\n",
       "    </tr>\n",
       "    <tr>\n",
       "      <th>1</th>\n",
       "      <td>Atlanta-Sandy Springs-Alpharetta, GA</td>\n",
       "      <td>Certified Ethical Hacker</td>\n",
       "      <td>346</td>\n",
       "      <td>69</td>\n",
       "      <td>5</td>\n",
       "    </tr>\n",
       "    <tr>\n",
       "      <th>2</th>\n",
       "      <td>Atlanta-Sandy Springs-Alpharetta, GA</td>\n",
       "      <td>Certified Ethical Hacker</td>\n",
       "      <td>346</td>\n",
       "      <td>69</td>\n",
       "      <td>5</td>\n",
       "    </tr>\n",
       "    <tr>\n",
       "      <th>3</th>\n",
       "      <td>Atlanta-Sandy Springs-Alpharetta, GA</td>\n",
       "      <td>Certified Ethical Hacker</td>\n",
       "      <td>346</td>\n",
       "      <td>69</td>\n",
       "      <td>5</td>\n",
       "    </tr>\n",
       "    <tr>\n",
       "      <th>4</th>\n",
       "      <td>Atlanta-Sandy Springs-Alpharetta, GA</td>\n",
       "      <td>Certified Ethical Hacker</td>\n",
       "      <td>346</td>\n",
       "      <td>69</td>\n",
       "      <td>5</td>\n",
       "    </tr>\n",
       "  </tbody>\n",
       "</table>\n",
       "</div>"
      ],
      "text/plain": [
       "                                    MSA                    Metric  Total  \\\n",
       "0  Atlanta-Sandy Springs-Alpharetta, GA  Certified Ethical Hacker    346   \n",
       "1  Atlanta-Sandy Springs-Alpharetta, GA  Certified Ethical Hacker    346   \n",
       "2  Atlanta-Sandy Springs-Alpharetta, GA  Certified Ethical Hacker    346   \n",
       "3  Atlanta-Sandy Springs-Alpharetta, GA  Certified Ethical Hacker    346   \n",
       "4  Atlanta-Sandy Springs-Alpharetta, GA  Certified Ethical Hacker    346   \n",
       "\n",
       "   Rows  Profiles  \n",
       "0    69         5  \n",
       "1    69         5  \n",
       "2    69         5  \n",
       "3    69         5  \n",
       "4    69         5  "
      ]
     },
     "execution_count": 46,
     "metadata": {},
     "output_type": "execute_result"
    }
   ],
   "source": [
    "df.head()"
   ]
  },
  {
   "cell_type": "code",
   "execution_count": 48,
   "metadata": {},
   "outputs": [],
   "source": [
    "df.to_csv('deleteMeNow.csv', index=False)"
   ]
  },
  {
   "cell_type": "code",
   "execution_count": 4,
   "metadata": {},
   "outputs": [],
   "source": [
    "totalProfiles.to_csv('deleteMeNow.csv', index=False)"
   ]
  },
  {
   "cell_type": "code",
   "execution_count": 3,
   "metadata": {},
   "outputs": [
    {
     "data": {
      "text/html": [
       "<div>\n",
       "<style scoped>\n",
       "    .dataframe tbody tr th:only-of-type {\n",
       "        vertical-align: middle;\n",
       "    }\n",
       "\n",
       "    .dataframe tbody tr th {\n",
       "        vertical-align: top;\n",
       "    }\n",
       "\n",
       "    .dataframe thead th {\n",
       "        text-align: right;\n",
       "    }\n",
       "</style>\n",
       "<table border=\"1\" class=\"dataframe\">\n",
       "  <thead>\n",
       "    <tr style=\"text-align: right;\">\n",
       "      <th></th>\n",
       "      <th>MSA</th>\n",
       "      <th>GEOID</th>\n",
       "      <th>Profiles</th>\n",
       "      <th>geometry</th>\n",
       "    </tr>\n",
       "  </thead>\n",
       "  <tbody>\n",
       "    <tr>\n",
       "      <th>0</th>\n",
       "      <td>Atlanta-Sandy Springs-Alpharetta, GA</td>\n",
       "      <td>12060</td>\n",
       "      <td>8376</td>\n",
       "      <td>POINT (-84.39957 33.69277)</td>\n",
       "    </tr>\n",
       "    <tr>\n",
       "      <th>1</th>\n",
       "      <td>Augusta-Richmond County, GA-SC</td>\n",
       "      <td>12260</td>\n",
       "      <td>1027</td>\n",
       "      <td>POINT (-81.98293 33.46104)</td>\n",
       "    </tr>\n",
       "    <tr>\n",
       "      <th>2</th>\n",
       "      <td>Austin-Round Rock-Georgetown, TX</td>\n",
       "      <td>12420</td>\n",
       "      <td>2835</td>\n",
       "      <td>POINT (-97.65445 30.26261)</td>\n",
       "    </tr>\n",
       "    <tr>\n",
       "      <th>3</th>\n",
       "      <td>Baltimore-Columbia-Towson, MD</td>\n",
       "      <td>12580</td>\n",
       "      <td>11442</td>\n",
       "      <td>POINT (-76.55101 39.30554)</td>\n",
       "    </tr>\n",
       "    <tr>\n",
       "      <th>4</th>\n",
       "      <td>Boston-Cambridge-Newton, MA-NH</td>\n",
       "      <td>14460</td>\n",
       "      <td>7310</td>\n",
       "      <td>POINT (-71.02193 42.51790)</td>\n",
       "    </tr>\n",
       "  </tbody>\n",
       "</table>\n",
       "</div>"
      ],
      "text/plain": [
       "                                    MSA  GEOID  Profiles  \\\n",
       "0  Atlanta-Sandy Springs-Alpharetta, GA  12060      8376   \n",
       "1        Augusta-Richmond County, GA-SC  12260      1027   \n",
       "2      Austin-Round Rock-Georgetown, TX  12420      2835   \n",
       "3         Baltimore-Columbia-Towson, MD  12580     11442   \n",
       "4        Boston-Cambridge-Newton, MA-NH  14460      7310   \n",
       "\n",
       "                     geometry  \n",
       "0  POINT (-84.39957 33.69277)  \n",
       "1  POINT (-81.98293 33.46104)  \n",
       "2  POINT (-97.65445 30.26261)  \n",
       "3  POINT (-76.55101 39.30554)  \n",
       "4  POINT (-71.02193 42.51790)  "
      ]
     },
     "execution_count": 3,
     "metadata": {},
     "output_type": "execute_result"
    }
   ],
   "source": [
    "totalProfiles.head()"
   ]
  },
  {
   "cell_type": "code",
   "execution_count": 8,
   "metadata": {},
   "outputs": [],
   "source": [
    "df = df[['MSA','Metric','Profiles']]\n",
    "df['Profiles'] = df['Profiles'].astype(int)"
   ]
  },
  {
   "cell_type": "code",
   "execution_count": 10,
   "metadata": {},
   "outputs": [],
   "source": [
    "df = df.pivot_table('Profiles', ['MSA'], 'Metric')"
   ]
  },
  {
   "cell_type": "code",
   "execution_count": 12,
   "metadata": {},
   "outputs": [],
   "source": [
    "df.reset_index(inplace=True)"
   ]
  },
  {
   "cell_type": "code",
   "execution_count": 14,
   "metadata": {},
   "outputs": [],
   "source": [
    "df.fillna(0, inplace=True)"
   ]
  },
  {
   "cell_type": "code",
   "execution_count": 18,
   "metadata": {},
   "outputs": [],
   "source": [
    "cols = df.columns.drop('MSA')\n",
    "df[cols] = df[cols].astype(int)"
   ]
  },
  {
   "cell_type": "code",
   "execution_count": 24,
   "metadata": {},
   "outputs": [],
   "source": [
    "df = df[['MSA','Metric','Profiles']]\n",
    "df['Profiles'] = df['Profiles'].astype(int)"
   ]
  },
  {
   "cell_type": "code",
   "execution_count": 25,
   "metadata": {},
   "outputs": [
    {
     "data": {
      "text/html": [
       "<div>\n",
       "<style scoped>\n",
       "    .dataframe tbody tr th:only-of-type {\n",
       "        vertical-align: middle;\n",
       "    }\n",
       "\n",
       "    .dataframe tbody tr th {\n",
       "        vertical-align: top;\n",
       "    }\n",
       "\n",
       "    .dataframe thead th {\n",
       "        text-align: right;\n",
       "    }\n",
       "</style>\n",
       "<table border=\"1\" class=\"dataframe\">\n",
       "  <thead>\n",
       "    <tr style=\"text-align: right;\">\n",
       "      <th></th>\n",
       "      <th>MSA</th>\n",
       "      <th>Metric</th>\n",
       "      <th>Profiles</th>\n",
       "    </tr>\n",
       "  </thead>\n",
       "  <tbody>\n",
       "    <tr>\n",
       "      <th>1052</th>\n",
       "      <td>Atlanta-Sandy Springs-Alpharetta, GA</td>\n",
       "      <td>Certified Ethical Hacker</td>\n",
       "      <td>346</td>\n",
       "    </tr>\n",
       "    <tr>\n",
       "      <th>1055</th>\n",
       "      <td>Atlanta-Sandy Springs-Alpharetta, GA</td>\n",
       "      <td>Certified Information Security Manager</td>\n",
       "      <td>300</td>\n",
       "    </tr>\n",
       "    <tr>\n",
       "      <th>1056</th>\n",
       "      <td>Atlanta-Sandy Springs-Alpharetta, GA</td>\n",
       "      <td>Certified Information System Auditor (CISA)</td>\n",
       "      <td>252</td>\n",
       "    </tr>\n",
       "    <tr>\n",
       "      <th>1057</th>\n",
       "      <td>Atlanta-Sandy Springs-Alpharetta, GA</td>\n",
       "      <td>Certified Information Systems Security Profess...</td>\n",
       "      <td>886</td>\n",
       "    </tr>\n",
       "    <tr>\n",
       "      <th>1067</th>\n",
       "      <td>Atlanta-Sandy Springs-Alpharetta, GA</td>\n",
       "      <td>Cisco Certified Network Associate</td>\n",
       "      <td>449</td>\n",
       "    </tr>\n",
       "  </tbody>\n",
       "</table>\n",
       "</div>"
      ],
      "text/plain": [
       "                                       MSA  \\\n",
       "1052  Atlanta-Sandy Springs-Alpharetta, GA   \n",
       "1055  Atlanta-Sandy Springs-Alpharetta, GA   \n",
       "1056  Atlanta-Sandy Springs-Alpharetta, GA   \n",
       "1057  Atlanta-Sandy Springs-Alpharetta, GA   \n",
       "1067  Atlanta-Sandy Springs-Alpharetta, GA   \n",
       "\n",
       "                                                 Metric  Profiles  \n",
       "1052                           Certified Ethical Hacker       346  \n",
       "1055             Certified Information Security Manager       300  \n",
       "1056        Certified Information System Auditor (CISA)       252  \n",
       "1057  Certified Information Systems Security Profess...       886  \n",
       "1067                  Cisco Certified Network Associate       449  "
      ]
     },
     "execution_count": 25,
     "metadata": {},
     "output_type": "execute_result"
    }
   ],
   "source": [
    "df.head()"
   ]
  },
  {
   "cell_type": "code",
   "execution_count": 26,
   "metadata": {},
   "outputs": [],
   "source": [
    "df.to_csv('deleteMeNow.csv', index=False)"
   ]
  },
  {
   "cell_type": "code",
   "execution_count": null,
   "metadata": {},
   "outputs": [],
   "source": []
  }
 ],
 "metadata": {
  "kernelspec": {
   "display_name": "Python 3",
   "language": "python",
   "name": "python3"
  },
  "language_info": {
   "codemirror_mode": {
    "name": "ipython",
    "version": 3
   },
   "file_extension": ".py",
   "mimetype": "text/x-python",
   "name": "python",
   "nbconvert_exporter": "python",
   "pygments_lexer": "ipython3",
   "version": "3.8.3"
  }
 },
 "nbformat": 4,
 "nbformat_minor": 4
}
